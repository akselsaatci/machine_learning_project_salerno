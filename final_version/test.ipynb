{
 "cells": [
  {
   "cell_type": "code",
   "execution_count": null,
   "id": "initial_id",
   "metadata": {
    "collapsed": true
   },
   "outputs": [],
   "source": [
    "import unittest\n",
    "from unittest.mock import patch, Mock\n",
    "from client_product import run, get_neutral_joint_position, calc_action, \\\n",
    "    ACTION_SPACE\n",
    "import torch\n",
    "import numpy as np\n",
    "\n",
    "\n",
    "class TestRunFunction(unittest.TestCase):\n",
    "\n",
    "    @patch('client_product.Client')\n",
    "    @patch('ddpg.DDPG')\n",
    "    def test_run(self, mock_ddpg, mock_client):\n",
    "        # Mocking the Client instance\n",
    "        mock_cli = mock_client.return_value\n",
    "        mock_cli.get_state.return_value = np.random.rand(38)\n",
    "\n",
    "        # Mocking the DDPG instance\n",
    "        mock_actor = mock_ddpg.return_value\n",
    "        mock_actor.calc_action.return_value = torch.FloatTensor(np.random.rand(1, ACTION_SPACE.low.shape[0]))\n",
    "\n",
    "        # Run the function\n",
    "        run(mock_cli)\n",
    "\n",
    "        # Assertions to check if get_state and send_joints were called\n",
    "        self.assertTrue(mock_cli.get_state.called, \"get_state was not called\")\n",
    "        self.assertTrue(mock_cli.send_joints.called, \"send_joints was not called\")\n",
    "\n",
    "    def test_get_neutral_joint_position(self):\n",
    "        # Check if get_neutral_joint_position returns a list of correct length\n",
    "        neutral_position = get_neutral_joint_position()\n",
    "        self.assertEqual(len(neutral_position), 11, \"Neutral joint position length is incorrect\")\n",
    "\n",
    "    def test_calc_action(self):\n",
    "        # Test calc_action function\n",
    "        action = np.random.rand(10)\n",
    "        y = 0.5\n",
    "        neutral_position = calc_action(action, y)\n",
    "        self.assertEqual(len(neutral_position), 11, \"Calculated action length is incorrect\")\n",
    "        self.assertAlmostEqual(neutral_position[1], y, \"Y position in calculated action is incorrect\")\n",
    "\n",
    "\n",
    "if __name__ == '__main__':\n",
    "    unittest.main()\n"
   ]
  }
 ],
 "metadata": {
  "kernelspec": {
   "display_name": "Python 3",
   "language": "python",
   "name": "python3"
  },
  "language_info": {
   "codemirror_mode": {
    "name": "ipython",
    "version": 2
   },
   "file_extension": ".py",
   "mimetype": "text/x-python",
   "name": "python",
   "nbconvert_exporter": "python",
   "pygments_lexer": "ipython2",
   "version": "2.7.6"
  }
 },
 "nbformat": 4,
 "nbformat_minor": 5
}
